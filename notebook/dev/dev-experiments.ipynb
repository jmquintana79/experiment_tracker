{
 "cells": [
  {
   "cell_type": "markdown",
   "id": "1a0e3220-3533-4343-a0b8-2a8d3ecd2092",
   "metadata": {},
   "source": [
    "# Dev - Experiments\n",
    "\n",
    "### Tasks\n",
    "- [ ] Falta la posibilidad de guardar \"estimadores\"\n",
    "    - save:\n",
    "        - Guardar en un pickle el estimador.\n",
    "        - Guardar su path file en el json.\n",
    "    - load (solo cuando seleccionado un experimento by id):\n",
    "        - Load el path del json to dict del exp seleccionado.\n",
    "        - load el modelo y meterlo en el dict.\n",
    "- [ ] Incluir comentarios y meter en un modulo."
   ]
  },
  {
   "cell_type": "code",
   "execution_count": 116,
   "id": "cff74d61-5607-49f2-9499-9c4c157999e2",
   "metadata": {},
   "outputs": [],
   "source": [
    "import os\n",
    "import pandas as pd\n",
    "import click\n",
    "from datetime import datetime\n",
    "import pickle as pkl\n",
    "import json"
   ]
  },
  {
   "cell_type": "code",
   "execution_count": 308,
   "id": "b759c18b-7473-4a18-8663-312f2f0315c3",
   "metadata": {},
   "outputs": [],
   "source": [
    "class Experiments():\n",
    "    \n",
    "    def __init__(self, folder:str = ''):\n",
    "        # validate\n",
    "        if not os.path.exists(folder):\n",
    "            click.secho(f'[error] Folder \"{click.format_filename(folder, shorten=True)}\" not exists.', fg='red')\n",
    "        # set\n",
    "        self.folder = folder\n",
    "        \n",
    "        \n",
    "    def __build_name(self, name:str)->str:\n",
    "        # get number id\n",
    "        l_exp = self.show()\n",
    "        if len(l_exp) == 0:\n",
    "            nid = 1\n",
    "        else:\n",
    "            nid = int(l_exp[-1].split('-')[0]) + 1\n",
    "        # build name and return\n",
    "        return f'{nid}-{datetime.now().strftime(\"%Y%m%d%H%M%S\")}-{name.replace(\" \",\"_\")}.json'\n",
    " \n",
    "\n",
    "    @staticmethod\n",
    "    def __save_dict_to_json(dictionary:dict, path:str):\n",
    "        # validation\n",
    "        assert '.json' in path, 'It is recommended the extension .json in path.'\n",
    "        # save\n",
    "        with open(path, \"w\") as outfile:\n",
    "            json.dump(dictionary, outfile)\n",
    "\n",
    "            \n",
    "    @staticmethod\n",
    "    def __load_json_to_dict(path:str):\n",
    "        # validation\n",
    "        assert os.path.isfile(path), f'The file \"{path}\" not exists.'\n",
    "        # load\n",
    "        with open(path, 'r') as openfile:\n",
    "            dict_object = json.load(openfile)\n",
    "        # return\n",
    "        return dict_object\n",
    "\n",
    "\n",
    "    def show(self):\n",
    "        return sorted([file for file in os.listdir(self.folder) if file[-5:] == '.json'])\n",
    "    \n",
    "    \n",
    "    def save(self, name:str, comment:str = '', metrics:dict = {}, hyperparameters:dict = {}, features_names:list = [], model:\"estimator\" = None):\n",
    "        # validate arguments\n",
    "        assert type(metrics) == dict, click.secho('[error] Argument \"metrics\" must be a dictionary.', fg='red')\n",
    "        assert type(hyperparameters) == dict, click.secho('[error] Argument \"hyperparameters\" must be a dictionary.', fg='red')\n",
    "        assert type(features_names) == list, click.secho('[error] Argument \"features_names\" must be a dictionary.', fg='red')\n",
    "        if len(metrics) == 0:\n",
    "            click.secho('[warning] Argument \"metrics\" was not passed.', fg='yellow')\n",
    "        # validate if name already exits\n",
    "        l_names = self.load().name.tolist()\n",
    "        if name in l_names:\n",
    "            click.secho('[warning] This name already exits: It will not saved this experiment.', fg='yellow')\n",
    "        else:\n",
    "            # build file name\n",
    "            file_name = self.__build_name(name)\n",
    "            # build dict to be saved\n",
    "            dcontent = {\n",
    "                'name': name,\n",
    "                'comment': comment\n",
    "                }\n",
    "            # include metrics\n",
    "            if len(metrics) > 0:\n",
    "                dcontent['metrics'] = metrics\n",
    "            # include hyperparamenters\n",
    "            if len(hyperparameters) > 0:\n",
    "                dcontent['hyperparameters'] = hyperparameters           \n",
    "            # include features_names\n",
    "            if len(features_names) > 0:\n",
    "                dcontent['features_names'] = features_names   \n",
    "            # save dict in json\n",
    "            self.__save_dict_to_json(dcontent, os.path.join(self.folder,file_name))\n",
    "        \n",
    "        \n",
    "    def clean(self):\n",
    "        for file in self.show():\n",
    "            os.remove(os.path.join(self.folder, file))\n",
    "            \n",
    "            \n",
    "    def load(self, nid:int = None):\n",
    "        # collect list of files\n",
    "        files = self.show()\n",
    "        # validate if it is required just one experiment by id\n",
    "        if not nid is None:\n",
    "            # collect select file name by id\n",
    "            l_file_x = [file for file in files if int(file.split('-')[0]) == nid]\n",
    "            # validate if exits\n",
    "            if len(l_file_x) == 0:\n",
    "                click.secho(f'[error] There are not any experiment with id \"{nid}\".', fg='red')\n",
    "            else:\n",
    "                # load and return\n",
    "                return self.__load_json_to_dict(os.path.join(self.folder, l_file_x[0]))\n",
    "        else:\n",
    "            # validate if there are some experiment\n",
    "            if len(files) == 0:\n",
    "                return pd.DataFrame({'nid':[], 'creation_dt':[], 'name':[], 'comment':[]})\n",
    "            # loop of files\n",
    "            for ii, file in enumerate(files[:]):\n",
    "                # parse file name\n",
    "                nid, dt = file.split('-')[:2]\n",
    "                nid = int(nid)\n",
    "                dt = datetime.strptime(dt, '%Y%m%d%H%M%S')\n",
    "                # load json to dict\n",
    "                dfile = self.__load_json_to_dict(os.path.join(self.folder, file))\n",
    "                # dict to df\n",
    "                df = pd.DataFrame({'nid':nid, 'creation_dt':[dt], 'name':[dfile['name']], 'comment':[dfile['comment']]})\n",
    "                # add metrics if exits\n",
    "                if 'metrics' in list(dfile.keys()):\n",
    "                    for k,v in dfile['metrics'].items():\n",
    "                        df[f'metric_{k}'] = [v]\n",
    "                # add hyperparameter if exits\n",
    "                if 'hyperparameters' in list(dfile.keys()):\n",
    "                    for k,v in dfile['hyperparameters'].items():\n",
    "                        df[f'hp_{k}'] = [v]\n",
    "                # append records\n",
    "                if ii == 0:\n",
    "                    dfexp = df.copy()\n",
    "                else:\n",
    "                    dfexp = dfexp.append(df)\n",
    "            # reset index\n",
    "            dfexp.reset_index(drop = True, inplace = True)\n",
    "            # return\n",
    "            return dfexp.set_index('nid')"
   ]
  },
  {
   "cell_type": "code",
   "execution_count": 309,
   "id": "1f56fe8b-b3a5-4364-94d7-9c8c8364feff",
   "metadata": {},
   "outputs": [],
   "source": [
    "exp = Experiments('experiments')"
   ]
  },
  {
   "cell_type": "code",
   "execution_count": 310,
   "id": "fe8439a6-d726-4761-95b0-d0aad8680064",
   "metadata": {},
   "outputs": [
    {
     "name": "stdout",
     "output_type": "stream",
     "text": [
      "\u001b[33m[warning] This name already exits: It will not saved this experiment.\u001b[0m\n"
     ]
    }
   ],
   "source": [
    "exp.save('model 3', comment = \"probando algo nuevo\", metrics = {\"rmse\":0.123453, \"bias\":1.232413})"
   ]
  },
  {
   "cell_type": "code",
   "execution_count": 311,
   "id": "ba53fd35-00c2-4720-9eab-dc82e5e18eb6",
   "metadata": {},
   "outputs": [
    {
     "data": {
      "text/plain": [
       "['1-20220713235300-model_1.json',\n",
       " '2-20220713235337-model_2.json',\n",
       " '3-20220713235409-model_3.json']"
      ]
     },
     "execution_count": 311,
     "metadata": {},
     "output_type": "execute_result"
    }
   ],
   "source": [
    "exp.show()"
   ]
  },
  {
   "cell_type": "code",
   "execution_count": 312,
   "id": "e79bb880-780b-4a2d-8222-09c67d87c8ef",
   "metadata": {},
   "outputs": [
    {
     "data": {
      "text/html": [
       "<div>\n",
       "<style scoped>\n",
       "    .dataframe tbody tr th:only-of-type {\n",
       "        vertical-align: middle;\n",
       "    }\n",
       "\n",
       "    .dataframe tbody tr th {\n",
       "        vertical-align: top;\n",
       "    }\n",
       "\n",
       "    .dataframe thead th {\n",
       "        text-align: right;\n",
       "    }\n",
       "</style>\n",
       "<table border=\"1\" class=\"dataframe\">\n",
       "  <thead>\n",
       "    <tr style=\"text-align: right;\">\n",
       "      <th></th>\n",
       "      <th>creation_dt</th>\n",
       "      <th>name</th>\n",
       "      <th>comment</th>\n",
       "      <th>metric_rmse</th>\n",
       "      <th>metric_bias</th>\n",
       "    </tr>\n",
       "    <tr>\n",
       "      <th>nid</th>\n",
       "      <th></th>\n",
       "      <th></th>\n",
       "      <th></th>\n",
       "      <th></th>\n",
       "      <th></th>\n",
       "    </tr>\n",
       "  </thead>\n",
       "  <tbody>\n",
       "    <tr>\n",
       "      <th>1</th>\n",
       "      <td>2022-07-13 23:53:00</td>\n",
       "      <td>model 1</td>\n",
       "      <td></td>\n",
       "      <td>0.345300</td>\n",
       "      <td>2.432413</td>\n",
       "    </tr>\n",
       "    <tr>\n",
       "      <th>2</th>\n",
       "      <td>2022-07-13 23:53:37</td>\n",
       "      <td>model 2</td>\n",
       "      <td>este es algo mejor</td>\n",
       "      <td>0.234530</td>\n",
       "      <td>1.432413</td>\n",
       "    </tr>\n",
       "    <tr>\n",
       "      <th>3</th>\n",
       "      <td>2022-07-13 23:54:09</td>\n",
       "      <td>model 3</td>\n",
       "      <td>probando algo nuevo</td>\n",
       "      <td>0.123453</td>\n",
       "      <td>1.232413</td>\n",
       "    </tr>\n",
       "  </tbody>\n",
       "</table>\n",
       "</div>"
      ],
      "text/plain": [
       "            creation_dt     name              comment  metric_rmse  \\\n",
       "nid                                                                  \n",
       "1   2022-07-13 23:53:00  model 1                          0.345300   \n",
       "2   2022-07-13 23:53:37  model 2   este es algo mejor     0.234530   \n",
       "3   2022-07-13 23:54:09  model 3  probando algo nuevo     0.123453   \n",
       "\n",
       "     metric_bias  \n",
       "nid               \n",
       "1       2.432413  \n",
       "2       1.432413  \n",
       "3       1.232413  "
      ]
     },
     "execution_count": 312,
     "metadata": {},
     "output_type": "execute_result"
    }
   ],
   "source": [
    "exp.load()"
   ]
  },
  {
   "cell_type": "code",
   "execution_count": 315,
   "id": "fd85940f-ee0d-4efd-a69b-30d44106a249",
   "metadata": {},
   "outputs": [
    {
     "data": {
      "text/plain": [
       "{'name': 'model 2',\n",
       " 'comment': 'este es algo mejor',\n",
       " 'metrics': {'rmse': 0.23453, 'bias': 1.432413}}"
      ]
     },
     "execution_count": 315,
     "metadata": {},
     "output_type": "execute_result"
    }
   ],
   "source": [
    "exp.load(nid = 2)"
   ]
  },
  {
   "cell_type": "raw",
   "id": "c73ec4c7-c684-4e8d-aeff-6d1867ac5627",
   "metadata": {},
   "source": [
    "exp.clean()"
   ]
  },
  {
   "cell_type": "code",
   "execution_count": null,
   "id": "d44d201b-5224-4a0a-98b3-09244f7920c0",
   "metadata": {},
   "outputs": [],
   "source": []
  }
 ],
 "metadata": {
  "kernelspec": {
   "display_name": "analysis",
   "language": "python",
   "name": "analysis"
  },
  "language_info": {
   "codemirror_mode": {
    "name": "ipython",
    "version": 3
   },
   "file_extension": ".py",
   "mimetype": "text/x-python",
   "name": "python",
   "nbconvert_exporter": "python",
   "pygments_lexer": "ipython3",
   "version": "3.7.0"
  }
 },
 "nbformat": 4,
 "nbformat_minor": 5
}
