{
 "cells": [
  {
   "attachments": {},
   "cell_type": "markdown",
   "id": "1a0e3220-3533-4343-a0b8-2a8d3ecd2092",
   "metadata": {},
   "source": [
    "# Dev - Experiments"
   ]
  },
  {
   "cell_type": "code",
   "execution_count": 2,
   "id": "f8d4fc5d",
   "metadata": {},
   "outputs": [
    {
     "name": "stdout",
     "output_type": "stream",
     "text": [
      "Collecting click\n",
      "  Using cached click-8.1.3-py3-none-any.whl (96 kB)\n",
      "Installing collected packages: click\n",
      "Successfully installed click-8.1.3\n",
      "Collecting pandas\n",
      "  Using cached pandas-1.5.2-cp39-cp39-macosx_10_9_x86_64.whl (12.1 MB)\n",
      "Requirement already satisfied: python-dateutil>=2.8.1 in /Users/juan/miniconda3/envs/mylib/lib/python3.9/site-packages (from pandas) (2.8.2)\n",
      "Collecting numpy>=1.20.3\n",
      "  Downloading numpy-1.24.1-cp39-cp39-macosx_10_9_x86_64.whl (19.8 MB)\n",
      "\u001b[2K     \u001b[90m━━━━━━━━━━━━━━━━━━━━━━━━━━━━━━━━━━━━━━━━\u001b[0m \u001b[32m19.8/19.8 MB\u001b[0m \u001b[31m32.8 MB/s\u001b[0m eta \u001b[36m0:00:00\u001b[0m00:01\u001b[0m00:01\u001b[0m\n",
      "\u001b[?25hCollecting pytz>=2020.1\n",
      "  Downloading pytz-2022.7.1-py2.py3-none-any.whl (499 kB)\n",
      "\u001b[2K     \u001b[90m━━━━━━━━━━━━━━━━━━━━━━━━━━━━━━━━━━━━━━\u001b[0m \u001b[32m499.4/499.4 kB\u001b[0m \u001b[31m23.6 MB/s\u001b[0m eta \u001b[36m0:00:00\u001b[0m\n",
      "\u001b[?25hRequirement already satisfied: six>=1.5 in /Users/juan/miniconda3/envs/mylib/lib/python3.9/site-packages (from python-dateutil>=2.8.1->pandas) (1.16.0)\n",
      "Installing collected packages: pytz, numpy, pandas\n",
      "Successfully installed numpy-1.24.1 pandas-1.5.2 pytz-2022.7.1\n"
     ]
    }
   ],
   "source": [
    "!pip install click\n",
    "!pip install pandas"
   ]
  },
  {
   "cell_type": "code",
   "execution_count": 3,
   "id": "cff74d61-5607-49f2-9499-9c4c157999e2",
   "metadata": {},
   "outputs": [],
   "source": [
    "import os\n",
    "import pandas as pd\n",
    "import click\n",
    "from datetime import datetime\n",
    "#import pickle as pkl\n",
    "import json"
   ]
  },
  {
   "cell_type": "code",
   "execution_count": 4,
   "id": "b759c18b-7473-4a18-8663-312f2f0315c3",
   "metadata": {},
   "outputs": [],
   "source": [
    "class Experiments():\n",
    "    \n",
    "    def __init__(self, folder:str = ''):\n",
    "        # validate\n",
    "        if not os.path.exists(folder):\n",
    "            click.secho(f'[error] Folder \"{click.format_filename(folder, shorten=True)}\" not exists.', fg='red')\n",
    "        # set\n",
    "        self.folder = folder\n",
    "        \n",
    "        \n",
    "    def __build_name(self, name:str)->str:\n",
    "        # get number id\n",
    "        l_exp = self.show()\n",
    "        if len(l_exp) == 0:\n",
    "            nid = 1\n",
    "        else:\n",
    "            nid = int(l_exp[-1].split('-')[0]) + 1\n",
    "        # build name and return\n",
    "        return f'{nid}-{datetime.now().strftime(\"%Y%m%d%H%M%S\")}-{name.replace(\" \",\"_\")}.json'\n",
    " \n",
    "\n",
    "    @staticmethod\n",
    "    def __save_dict_to_json(dictionary:dict, path:str):\n",
    "        # validation\n",
    "        assert '.json' in path, 'It is recommended the extension .json in path.'\n",
    "        # save\n",
    "        with open(path, \"w\") as outfile:\n",
    "            json.dump(dictionary, outfile)\n",
    "\n",
    "            \n",
    "    @staticmethod\n",
    "    def __load_json_to_dict(path:str):\n",
    "        # validation\n",
    "        assert os.path.isfile(path), f'The file \"{path}\" not exists.'\n",
    "        # load\n",
    "        with open(path, 'r') as openfile:\n",
    "            dict_object = json.load(openfile)\n",
    "        # return\n",
    "        return dict_object\n",
    "\n",
    "\n",
    "    def show(self):\n",
    "        return sorted([file for file in os.listdir(self.folder) if file[-5:] == '.json'])\n",
    "    \n",
    "    \n",
    "    def save(self, name:str, comment:str = '', metrics:dict = {}, hyperparameters:dict = {}, features_names:list = [], model:\"estimator\" = None):\n",
    "        # validate arguments\n",
    "        assert type(metrics) == dict, click.secho('[error] Argument \"metrics\" must be a dictionary.', fg='red')\n",
    "        assert type(hyperparameters) == dict, click.secho('[error] Argument \"hyperparameters\" must be a dictionary.', fg='red')\n",
    "        assert type(features_names) == list, click.secho('[error] Argument \"features_names\" must be a dictionary.', fg='red')\n",
    "        if len(metrics) == 0:\n",
    "            click.secho('[warning] Argument \"metrics\" was not passed.', fg='yellow')\n",
    "        # validate if name already exits\n",
    "        l_names = self.load().name.tolist()\n",
    "        if name in l_names:\n",
    "            click.secho('[warning] This name already exits: It will not saved this experiment.', fg='yellow')\n",
    "        else:\n",
    "            # build file name\n",
    "            file_name = self.__build_name(name)\n",
    "            # build dict to be saved\n",
    "            dcontent = {\n",
    "                'name': name,\n",
    "                'comment': comment\n",
    "                }\n",
    "            # include metrics\n",
    "            if len(metrics) > 0:\n",
    "                dcontent['metrics'] = metrics\n",
    "            # include hyperparamenters\n",
    "            if len(hyperparameters) > 0:\n",
    "                dcontent['hyperparameters'] = hyperparameters           \n",
    "            # include features_names\n",
    "            if len(features_names) > 0:\n",
    "                dcontent['features_names'] = features_names   \n",
    "            # save dict in json\n",
    "            self.__save_dict_to_json(dcontent, os.path.join(self.folder,file_name))\n",
    "        \n",
    "        \n",
    "    def clean(self):\n",
    "        for file in self.show():\n",
    "            os.remove(os.path.join(self.folder, file))\n",
    "            \n",
    "            \n",
    "    def load(self, nid:int = None):\n",
    "        # collect list of files\n",
    "        files = self.show()\n",
    "        # validate if it is required just one experiment by id\n",
    "        if not nid is None:\n",
    "            # collect select file name by id\n",
    "            l_file_x = [file for file in files if int(file.split('-')[0]) == nid]\n",
    "            # validate if exits\n",
    "            if len(l_file_x) == 0:\n",
    "                click.secho(f'[error] There are not any experiment with id \"{nid}\".', fg='red')\n",
    "            else:\n",
    "                # load and return\n",
    "                return self.__load_json_to_dict(os.path.join(self.folder, l_file_x[0]))\n",
    "        else:\n",
    "            # validate if there are some experiment\n",
    "            if len(files) == 0:\n",
    "                return pd.DataFrame({'nid':[], 'creation_dt':[], 'name':[], 'comment':[]})\n",
    "            # loop of files\n",
    "            for ii, file in enumerate(files[:]):\n",
    "                # parse file name\n",
    "                nid, dt = file.split('-')[:2]\n",
    "                nid = int(nid)\n",
    "                dt = datetime.strptime(dt, '%Y%m%d%H%M%S')\n",
    "                # load json to dict\n",
    "                dfile = self.__load_json_to_dict(os.path.join(self.folder, file))\n",
    "                # dict to df\n",
    "                df = pd.DataFrame({'nid':nid, 'creation_dt':[dt], 'name':[dfile['name']], 'comment':[dfile['comment']]})\n",
    "                # add metrics if exits\n",
    "                if 'metrics' in list(dfile.keys()):\n",
    "                    for k,v in dfile['metrics'].items():\n",
    "                        df[f'metric_{k}'] = [v]\n",
    "                # add hyperparameter if exits\n",
    "                if 'hyperparameters' in list(dfile.keys()):\n",
    "                    for k,v in dfile['hyperparameters'].items():\n",
    "                        df[f'hp_{k}'] = [v]\n",
    "                # append records\n",
    "                if ii == 0:\n",
    "                    dfexp = df.copy()\n",
    "                else:\n",
    "                    dfexp = dfexp.append(df)\n",
    "            # reset index\n",
    "            dfexp.reset_index(drop = True, inplace = True)\n",
    "            # return\n",
    "            return dfexp.set_index('nid')"
   ]
  },
  {
   "cell_type": "code",
   "execution_count": 5,
   "id": "1f56fe8b-b3a5-4364-94d7-9c8c8364feff",
   "metadata": {},
   "outputs": [
    {
     "name": "stdout",
     "output_type": "stream",
     "text": [
      "\u001b[31m[error] Folder \"experiments\" not exists.\u001b[0m\n"
     ]
    }
   ],
   "source": [
    "exp = Experiments('experiments')"
   ]
  },
  {
   "cell_type": "code",
   "execution_count": 6,
   "id": "fe8439a6-d726-4761-95b0-d0aad8680064",
   "metadata": {},
   "outputs": [
    {
     "ename": "FileNotFoundError",
     "evalue": "[Errno 2] No such file or directory: 'experiments'",
     "output_type": "error",
     "traceback": [
      "\u001b[0;31m---------------------------------------------------------------------------\u001b[0m",
      "\u001b[0;31mFileNotFoundError\u001b[0m                         Traceback (most recent call last)",
      "Cell \u001b[0;32mIn[6], line 1\u001b[0m\n\u001b[0;32m----> 1\u001b[0m exp\u001b[39m.\u001b[39;49msave(\u001b[39m'\u001b[39;49m\u001b[39mmodel 3\u001b[39;49m\u001b[39m'\u001b[39;49m, comment \u001b[39m=\u001b[39;49m \u001b[39m\"\u001b[39;49m\u001b[39mprobando algo nuevo\u001b[39;49m\u001b[39m\"\u001b[39;49m, metrics \u001b[39m=\u001b[39;49m {\u001b[39m\"\u001b[39;49m\u001b[39mrmse\u001b[39;49m\u001b[39m\"\u001b[39;49m:\u001b[39m0.123453\u001b[39;49m, \u001b[39m\"\u001b[39;49m\u001b[39mbias\u001b[39;49m\u001b[39m\"\u001b[39;49m:\u001b[39m1.232413\u001b[39;49m})\n",
      "Cell \u001b[0;32mIn[4], line 54\u001b[0m, in \u001b[0;36mExperiments.save\u001b[0;34m(self, name, comment, metrics, hyperparameters, features_names, model)\u001b[0m\n\u001b[1;32m     52\u001b[0m     click\u001b[39m.\u001b[39msecho(\u001b[39m'\u001b[39m\u001b[39m[warning] Argument \u001b[39m\u001b[39m\"\u001b[39m\u001b[39mmetrics\u001b[39m\u001b[39m\"\u001b[39m\u001b[39m was not passed.\u001b[39m\u001b[39m'\u001b[39m, fg\u001b[39m=\u001b[39m\u001b[39m'\u001b[39m\u001b[39myellow\u001b[39m\u001b[39m'\u001b[39m)\n\u001b[1;32m     53\u001b[0m \u001b[39m# validate if name already exits\u001b[39;00m\n\u001b[0;32m---> 54\u001b[0m l_names \u001b[39m=\u001b[39m \u001b[39mself\u001b[39;49m\u001b[39m.\u001b[39;49mload()\u001b[39m.\u001b[39mname\u001b[39m.\u001b[39mtolist()\n\u001b[1;32m     55\u001b[0m \u001b[39mif\u001b[39;00m name \u001b[39min\u001b[39;00m l_names:\n\u001b[1;32m     56\u001b[0m     click\u001b[39m.\u001b[39msecho(\u001b[39m'\u001b[39m\u001b[39m[warning] This name already exits: It will not saved this experiment.\u001b[39m\u001b[39m'\u001b[39m, fg\u001b[39m=\u001b[39m\u001b[39m'\u001b[39m\u001b[39myellow\u001b[39m\u001b[39m'\u001b[39m)\n",
      "Cell \u001b[0;32mIn[4], line 85\u001b[0m, in \u001b[0;36mExperiments.load\u001b[0;34m(self, nid)\u001b[0m\n\u001b[1;32m     83\u001b[0m \u001b[39mdef\u001b[39;00m \u001b[39mload\u001b[39m(\u001b[39mself\u001b[39m, nid:\u001b[39mint\u001b[39m \u001b[39m=\u001b[39m \u001b[39mNone\u001b[39;00m):\n\u001b[1;32m     84\u001b[0m     \u001b[39m# collect list of files\u001b[39;00m\n\u001b[0;32m---> 85\u001b[0m     files \u001b[39m=\u001b[39m \u001b[39mself\u001b[39;49m\u001b[39m.\u001b[39;49mshow()\n\u001b[1;32m     86\u001b[0m     \u001b[39m# validate if it is required just one experiment by id\u001b[39;00m\n\u001b[1;32m     87\u001b[0m     \u001b[39mif\u001b[39;00m \u001b[39mnot\u001b[39;00m nid \u001b[39mis\u001b[39;00m \u001b[39mNone\u001b[39;00m:\n\u001b[1;32m     88\u001b[0m         \u001b[39m# collect select file name by id\u001b[39;00m\n",
      "Cell \u001b[0;32mIn[4], line 43\u001b[0m, in \u001b[0;36mExperiments.show\u001b[0;34m(self)\u001b[0m\n\u001b[1;32m     42\u001b[0m \u001b[39mdef\u001b[39;00m \u001b[39mshow\u001b[39m(\u001b[39mself\u001b[39m):\n\u001b[0;32m---> 43\u001b[0m     \u001b[39mreturn\u001b[39;00m \u001b[39msorted\u001b[39m([file \u001b[39mfor\u001b[39;00m file \u001b[39min\u001b[39;00m os\u001b[39m.\u001b[39;49mlistdir(\u001b[39mself\u001b[39;49m\u001b[39m.\u001b[39;49mfolder) \u001b[39mif\u001b[39;00m file[\u001b[39m-\u001b[39m\u001b[39m5\u001b[39m:] \u001b[39m==\u001b[39m \u001b[39m'\u001b[39m\u001b[39m.json\u001b[39m\u001b[39m'\u001b[39m])\n",
      "\u001b[0;31mFileNotFoundError\u001b[0m: [Errno 2] No such file or directory: 'experiments'"
     ]
    }
   ],
   "source": [
    "exp.save('model 3', comment = \"probando algo nuevo\", metrics = {\"rmse\":0.123453, \"bias\":1.232413})"
   ]
  },
  {
   "cell_type": "code",
   "execution_count": null,
   "id": "ba53fd35-00c2-4720-9eab-dc82e5e18eb6",
   "metadata": {},
   "outputs": [
    {
     "data": {
      "text/plain": [
       "['1-20220713235300-model_1.json',\n",
       " '2-20220713235337-model_2.json',\n",
       " '3-20220713235409-model_3.json']"
      ]
     },
     "execution_count": 311,
     "metadata": {},
     "output_type": "execute_result"
    }
   ],
   "source": [
    "exp.show()"
   ]
  },
  {
   "cell_type": "code",
   "execution_count": 7,
   "id": "e79bb880-780b-4a2d-8222-09c67d87c8ef",
   "metadata": {},
   "outputs": [
    {
     "ename": "FileNotFoundError",
     "evalue": "[Errno 2] No such file or directory: 'experiments'",
     "output_type": "error",
     "traceback": [
      "\u001b[0;31m---------------------------------------------------------------------------\u001b[0m",
      "\u001b[0;31mFileNotFoundError\u001b[0m                         Traceback (most recent call last)",
      "Cell \u001b[0;32mIn[7], line 1\u001b[0m\n\u001b[0;32m----> 1\u001b[0m exp\u001b[39m.\u001b[39;49mload()\n",
      "Cell \u001b[0;32mIn[4], line 85\u001b[0m, in \u001b[0;36mExperiments.load\u001b[0;34m(self, nid)\u001b[0m\n\u001b[1;32m     83\u001b[0m \u001b[39mdef\u001b[39;00m \u001b[39mload\u001b[39m(\u001b[39mself\u001b[39m, nid:\u001b[39mint\u001b[39m \u001b[39m=\u001b[39m \u001b[39mNone\u001b[39;00m):\n\u001b[1;32m     84\u001b[0m     \u001b[39m# collect list of files\u001b[39;00m\n\u001b[0;32m---> 85\u001b[0m     files \u001b[39m=\u001b[39m \u001b[39mself\u001b[39;49m\u001b[39m.\u001b[39;49mshow()\n\u001b[1;32m     86\u001b[0m     \u001b[39m# validate if it is required just one experiment by id\u001b[39;00m\n\u001b[1;32m     87\u001b[0m     \u001b[39mif\u001b[39;00m \u001b[39mnot\u001b[39;00m nid \u001b[39mis\u001b[39;00m \u001b[39mNone\u001b[39;00m:\n\u001b[1;32m     88\u001b[0m         \u001b[39m# collect select file name by id\u001b[39;00m\n",
      "Cell \u001b[0;32mIn[4], line 43\u001b[0m, in \u001b[0;36mExperiments.show\u001b[0;34m(self)\u001b[0m\n\u001b[1;32m     42\u001b[0m \u001b[39mdef\u001b[39;00m \u001b[39mshow\u001b[39m(\u001b[39mself\u001b[39m):\n\u001b[0;32m---> 43\u001b[0m     \u001b[39mreturn\u001b[39;00m \u001b[39msorted\u001b[39m([file \u001b[39mfor\u001b[39;00m file \u001b[39min\u001b[39;00m os\u001b[39m.\u001b[39;49mlistdir(\u001b[39mself\u001b[39;49m\u001b[39m.\u001b[39;49mfolder) \u001b[39mif\u001b[39;00m file[\u001b[39m-\u001b[39m\u001b[39m5\u001b[39m:] \u001b[39m==\u001b[39m \u001b[39m'\u001b[39m\u001b[39m.json\u001b[39m\u001b[39m'\u001b[39m])\n",
      "\u001b[0;31mFileNotFoundError\u001b[0m: [Errno 2] No such file or directory: 'experiments'"
     ]
    }
   ],
   "source": [
    "exp.load()"
   ]
  },
  {
   "cell_type": "code",
   "execution_count": 8,
   "id": "fd85940f-ee0d-4efd-a69b-30d44106a249",
   "metadata": {},
   "outputs": [
    {
     "ename": "FileNotFoundError",
     "evalue": "[Errno 2] No such file or directory: 'experiments'",
     "output_type": "error",
     "traceback": [
      "\u001b[0;31m---------------------------------------------------------------------------\u001b[0m",
      "\u001b[0;31mFileNotFoundError\u001b[0m                         Traceback (most recent call last)",
      "Cell \u001b[0;32mIn[8], line 1\u001b[0m\n\u001b[0;32m----> 1\u001b[0m exp\u001b[39m.\u001b[39;49mload(nid \u001b[39m=\u001b[39;49m \u001b[39m2\u001b[39;49m)\n",
      "Cell \u001b[0;32mIn[4], line 85\u001b[0m, in \u001b[0;36mExperiments.load\u001b[0;34m(self, nid)\u001b[0m\n\u001b[1;32m     83\u001b[0m \u001b[39mdef\u001b[39;00m \u001b[39mload\u001b[39m(\u001b[39mself\u001b[39m, nid:\u001b[39mint\u001b[39m \u001b[39m=\u001b[39m \u001b[39mNone\u001b[39;00m):\n\u001b[1;32m     84\u001b[0m     \u001b[39m# collect list of files\u001b[39;00m\n\u001b[0;32m---> 85\u001b[0m     files \u001b[39m=\u001b[39m \u001b[39mself\u001b[39;49m\u001b[39m.\u001b[39;49mshow()\n\u001b[1;32m     86\u001b[0m     \u001b[39m# validate if it is required just one experiment by id\u001b[39;00m\n\u001b[1;32m     87\u001b[0m     \u001b[39mif\u001b[39;00m \u001b[39mnot\u001b[39;00m nid \u001b[39mis\u001b[39;00m \u001b[39mNone\u001b[39;00m:\n\u001b[1;32m     88\u001b[0m         \u001b[39m# collect select file name by id\u001b[39;00m\n",
      "Cell \u001b[0;32mIn[4], line 43\u001b[0m, in \u001b[0;36mExperiments.show\u001b[0;34m(self)\u001b[0m\n\u001b[1;32m     42\u001b[0m \u001b[39mdef\u001b[39;00m \u001b[39mshow\u001b[39m(\u001b[39mself\u001b[39m):\n\u001b[0;32m---> 43\u001b[0m     \u001b[39mreturn\u001b[39;00m \u001b[39msorted\u001b[39m([file \u001b[39mfor\u001b[39;00m file \u001b[39min\u001b[39;00m os\u001b[39m.\u001b[39;49mlistdir(\u001b[39mself\u001b[39;49m\u001b[39m.\u001b[39;49mfolder) \u001b[39mif\u001b[39;00m file[\u001b[39m-\u001b[39m\u001b[39m5\u001b[39m:] \u001b[39m==\u001b[39m \u001b[39m'\u001b[39m\u001b[39m.json\u001b[39m\u001b[39m'\u001b[39m])\n",
      "\u001b[0;31mFileNotFoundError\u001b[0m: [Errno 2] No such file or directory: 'experiments'"
     ]
    }
   ],
   "source": [
    "exp.load(nid = 2)"
   ]
  },
  {
   "cell_type": "raw",
   "id": "c73ec4c7-c684-4e8d-aeff-6d1867ac5627",
   "metadata": {},
   "source": [
    "exp.clean()"
   ]
  },
  {
   "cell_type": "code",
   "execution_count": null,
   "id": "d44d201b-5224-4a0a-98b3-09244f7920c0",
   "metadata": {},
   "outputs": [],
   "source": []
  }
 ],
 "metadata": {
  "kernelspec": {
   "display_name": "mylib",
   "language": "python",
   "name": "python3"
  },
  "language_info": {
   "codemirror_mode": {
    "name": "ipython",
    "version": 3
   },
   "file_extension": ".py",
   "mimetype": "text/x-python",
   "name": "python",
   "nbconvert_exporter": "python",
   "pygments_lexer": "ipython3",
   "version": "3.9.15"
  },
  "vscode": {
   "interpreter": {
    "hash": "12cc549ff267822e480f07dbc799a96cf6b903550b7fe534fb735dbedc313e7e"
   }
  }
 },
 "nbformat": 4,
 "nbformat_minor": 5
}
