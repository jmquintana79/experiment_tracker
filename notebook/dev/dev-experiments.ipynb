{
 "cells": [
  {
   "attachments": {},
   "cell_type": "markdown",
   "id": "1a0e3220-3533-4343-a0b8-2a8d3ecd2092",
   "metadata": {},
   "source": [
    "# Dev - Experiments"
   ]
  },
  {
   "cell_type": "raw",
   "id": "f8d4fc5d",
   "metadata": {},
   "source": [
    "!pip install click\n",
    "!pip install pandas"
   ]
  },
  {
   "cell_type": "code",
   "execution_count": 3,
   "id": "e6c28a9d",
   "metadata": {},
   "outputs": [],
   "source": [
    "import sys\n",
    "sys.path.append('../../src/experiment_tracker')  \n",
    "from modules import Experiments"
   ]
  },
  {
   "cell_type": "code",
   "execution_count": 4,
   "id": "1f56fe8b-b3a5-4364-94d7-9c8c8364feff",
   "metadata": {},
   "outputs": [],
   "source": [
    "exp = Experiments('experiments')"
   ]
  },
  {
   "cell_type": "code",
   "execution_count": 5,
   "id": "fe8439a6-d726-4761-95b0-d0aad8680064",
   "metadata": {},
   "outputs": [
    {
     "name": "stdout",
     "output_type": "stream",
     "text": [
      "\u001b[33m[warning] This name already exits: It will not saved this experiment.\u001b[0m\n",
      "\u001b[33m[warning] This name already exits: It will not saved this experiment.\u001b[0m\n",
      "\u001b[33m[warning] This name already exits: It will not saved this experiment.\u001b[0m\n"
     ]
    }
   ],
   "source": [
    "exp.save('model 1', comment = \"probando algo nuevo\", metrics = {\"rmse\":0.123453, \"bias\":1.232413})\n",
    "exp.save('model 2', comment = \"probando algo nuevo\", metrics = {\"rmse\":0.123453, \"bias\":1.232413})\n",
    "exp.save('model 3', comment = \"probando algo nuevo\", metrics = {\"rmse\":0.123453, \"bias\":1.232413})"
   ]
  },
  {
   "cell_type": "code",
   "execution_count": 6,
   "id": "ba53fd35-00c2-4720-9eab-dc82e5e18eb6",
   "metadata": {},
   "outputs": [
    {
     "data": {
      "text/plain": [
       "['1-20230120233219-model_3.json',\n",
       " '2-20230120233237-model_1.json',\n",
       " '3-20230120233237-model_2.json']"
      ]
     },
     "execution_count": 6,
     "metadata": {},
     "output_type": "execute_result"
    }
   ],
   "source": [
    "exp.show()"
   ]
  },
  {
   "cell_type": "code",
   "execution_count": 7,
   "id": "e79bb880-780b-4a2d-8222-09c67d87c8ef",
   "metadata": {},
   "outputs": [
    {
     "data": {
      "text/html": [
       "<div>\n",
       "<style scoped>\n",
       "    .dataframe tbody tr th:only-of-type {\n",
       "        vertical-align: middle;\n",
       "    }\n",
       "\n",
       "    .dataframe tbody tr th {\n",
       "        vertical-align: top;\n",
       "    }\n",
       "\n",
       "    .dataframe thead th {\n",
       "        text-align: right;\n",
       "    }\n",
       "</style>\n",
       "<table border=\"1\" class=\"dataframe\">\n",
       "  <thead>\n",
       "    <tr style=\"text-align: right;\">\n",
       "      <th></th>\n",
       "      <th>creation_dt</th>\n",
       "      <th>name</th>\n",
       "      <th>comment</th>\n",
       "      <th>metric_rmse</th>\n",
       "      <th>metric_bias</th>\n",
       "    </tr>\n",
       "    <tr>\n",
       "      <th>nid</th>\n",
       "      <th></th>\n",
       "      <th></th>\n",
       "      <th></th>\n",
       "      <th></th>\n",
       "      <th></th>\n",
       "    </tr>\n",
       "  </thead>\n",
       "  <tbody>\n",
       "    <tr>\n",
       "      <th>1</th>\n",
       "      <td>2023-01-20 23:32:19</td>\n",
       "      <td>model 3</td>\n",
       "      <td>probando algo nuevo</td>\n",
       "      <td>0.123453</td>\n",
       "      <td>1.232413</td>\n",
       "    </tr>\n",
       "    <tr>\n",
       "      <th>2</th>\n",
       "      <td>2023-01-20 23:32:37</td>\n",
       "      <td>model 1</td>\n",
       "      <td>probando algo nuevo</td>\n",
       "      <td>0.123453</td>\n",
       "      <td>1.232413</td>\n",
       "    </tr>\n",
       "    <tr>\n",
       "      <th>3</th>\n",
       "      <td>2023-01-20 23:32:37</td>\n",
       "      <td>model 2</td>\n",
       "      <td>probando algo nuevo</td>\n",
       "      <td>0.123453</td>\n",
       "      <td>1.232413</td>\n",
       "    </tr>\n",
       "  </tbody>\n",
       "</table>\n",
       "</div>"
      ],
      "text/plain": [
       "            creation_dt     name              comment  metric_rmse  \\\n",
       "nid                                                                  \n",
       "1   2023-01-20 23:32:19  model 3  probando algo nuevo     0.123453   \n",
       "2   2023-01-20 23:32:37  model 1  probando algo nuevo     0.123453   \n",
       "3   2023-01-20 23:32:37  model 2  probando algo nuevo     0.123453   \n",
       "\n",
       "     metric_bias  \n",
       "nid               \n",
       "1       1.232413  \n",
       "2       1.232413  \n",
       "3       1.232413  "
      ]
     },
     "execution_count": 7,
     "metadata": {},
     "output_type": "execute_result"
    }
   ],
   "source": [
    "exp.load()"
   ]
  },
  {
   "cell_type": "code",
   "execution_count": 8,
   "id": "fd85940f-ee0d-4efd-a69b-30d44106a249",
   "metadata": {},
   "outputs": [
    {
     "data": {
      "text/plain": [
       "{'name': 'model 3',\n",
       " 'comment': 'probando algo nuevo',\n",
       " 'metrics': {'rmse': 0.123453, 'bias': 1.232413}}"
      ]
     },
     "execution_count": 8,
     "metadata": {},
     "output_type": "execute_result"
    }
   ],
   "source": [
    "exp.load(nid = 1)"
   ]
  },
  {
   "cell_type": "code",
   "execution_count": 9,
   "id": "c73ec4c7-c684-4e8d-aeff-6d1867ac5627",
   "metadata": {},
   "outputs": [],
   "source": [
    "exp.clean()"
   ]
  },
  {
   "cell_type": "code",
   "execution_count": 10,
   "id": "d44d201b-5224-4a0a-98b3-09244f7920c0",
   "metadata": {},
   "outputs": [
    {
     "name": "stdout",
     "output_type": "stream",
     "text": [
      "total 0\n",
      "drwxr-xr-x  2 juan  staff   64 Jan 20 23:52 \u001b[34m.\u001b[m\u001b[m\n",
      "drwxr-xr-x  4 juan  staff  128 Jan 20 23:46 \u001b[34m..\u001b[m\u001b[m\n"
     ]
    }
   ],
   "source": [
    "!ls -la experiments/"
   ]
  },
  {
   "cell_type": "code",
   "execution_count": null,
   "id": "062e6727",
   "metadata": {},
   "outputs": [],
   "source": []
  },
  {
   "cell_type": "code",
   "execution_count": null,
   "id": "09e698fc",
   "metadata": {},
   "outputs": [],
   "source": []
  }
 ],
 "metadata": {
  "kernelspec": {
   "display_name": "mylib",
   "language": "python",
   "name": "python3"
  },
  "language_info": {
   "codemirror_mode": {
    "name": "ipython",
    "version": 3
   },
   "file_extension": ".py",
   "mimetype": "text/x-python",
   "name": "python",
   "nbconvert_exporter": "python",
   "pygments_lexer": "ipython3",
   "version": "3.9.15"
  },
  "vscode": {
   "interpreter": {
    "hash": "12cc549ff267822e480f07dbc799a96cf6b903550b7fe534fb735dbedc313e7e"
   }
  }
 },
 "nbformat": 4,
 "nbformat_minor": 5
}
